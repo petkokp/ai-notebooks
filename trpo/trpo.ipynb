{
 "cells": [
  {
   "cell_type": "markdown",
   "metadata": {},
   "source": [
    "# \"Trust region policy optimization\" paper implementation - https://arxiv.org/pdf/1502.05477.pdf"
   ]
  },
  {
   "cell_type": "code",
   "execution_count": 1,
   "metadata": {},
   "outputs": [
    {
     "name": "stderr",
     "output_type": "stream",
     "text": [
      "A.L.E: Arcade Learning Environment (version 0.8.1+53f58b7)\n",
      "[Powered by Stella]\n"
     ]
    }
   ],
   "source": [
    "from utils import *\n",
    "from config import get_params\n",
    "from worker import Worker\n",
    "from trpo import TRPO\n",
    "import multiprocessing as mp\n",
    "import numpy as np\n",
    "import gymnasium as gym\n",
    "from play import Evaluator\n",
    "\n",
    "params = get_params()\n",
    "set_random_seeds(params[\"seed\"])\n",
    "\n",
    "test_env = gym.make(params[\"env_name\"])\n",
    "params.update({\"n_actions\": test_env.action_space.n})\n",
    "test_env.close()\n",
    "del test_env\n",
    "params.update({\"rollout_length\": params[\"batch_size\"] // params[\"n_workers\"]})\n",
    "\n",
    "brain = TRPO(**params)"
   ]
  },
  {
   "cell_type": "code",
   "execution_count": null,
   "metadata": {},
   "outputs": [],
   "source": [
    "if not params[\"do_test\"]:\n",
    "    init_iteration = 0\n",
    "    episode = 0\n",
    "\n",
    "    parents = []\n",
    "    for i in range(params[\"n_workers\"]):\n",
    "        parent_conn, child_conn = mp.Pipe()\n",
    "        parents.append(parent_conn)\n",
    "        w = Worker(i, conn=child_conn, **params)\n",
    "        w.start()\n",
    "\n",
    "    rollout_base_shape = params[\"n_workers\"], params[\"rollout_length\"]\n",
    "\n",
    "    total_states = np.zeros(rollout_base_shape +\n",
    "                            params[\"state_shape\"], dtype=np.uint8)\n",
    "    total_actions = np.zeros(rollout_base_shape, dtype=np.int32)\n",
    "    total_rewards = np.zeros(rollout_base_shape)\n",
    "    total_dones = np.zeros(rollout_base_shape, dtype=bool)\n",
    "    total_values = np.zeros(rollout_base_shape, dtype=np.float32)\n",
    "    total_log_probs = np.zeros(rollout_base_shape)\n",
    "    total_probs = np.zeros(rollout_base_shape + (params[\"n_actions\"],))\n",
    "    next_states = np.zeros(\n",
    "        (rollout_base_shape[0],) + params[\"state_shape\"], dtype=np.uint8)\n",
    "    infos = {}\n",
    "\n",
    "    episode_reward = 0\n",
    "    episode_length = 0\n",
    "    for iteration in range(init_iteration + 1):\n",
    "\n",
    "        for t in range(params[\"rollout_length\"]):\n",
    "            for worker_id, parent in enumerate(parents):\n",
    "                s = parent.recv()\n",
    "                total_states[worker_id, t] = s\n",
    "\n",
    "            total_actions[:, t], total_values[:, t], total_log_probs[:, t], total_probs[:, t] = \\\n",
    "                brain.get_actions_and_values(total_states[:, t], batch=True)\n",
    "\n",
    "            for parent, a in zip(parents, total_actions[:, t]):\n",
    "                parent.send(a)\n",
    "\n",
    "            for worker_id, parent in enumerate(parents):\n",
    "                s_, r, d, infos[worker_id] = parent.recv()\n",
    "                total_rewards[worker_id, t] = r\n",
    "                total_dones[worker_id, t] = d\n",
    "                next_states[worker_id] = s_\n",
    "\n",
    "            episode_reward += total_rewards[0, t]\n",
    "            episode_length += 1\n",
    "            if total_dones[0, t] and infos[0][\"lives\"] == 0:\n",
    "                episode += 1\n",
    "                episode_reward = 0\n",
    "                episode_length = 0\n",
    "\n",
    "        _, next_values, * \\\n",
    "            _ = brain.get_actions_and_values(next_states, batch=True)\n",
    "\n",
    "        training_logs = brain.train(np.concatenate(total_states),\n",
    "                                    np.concatenate(total_actions),\n",
    "                                    total_rewards,\n",
    "                                    total_dones,\n",
    "                                    np.concatenate(total_log_probs),\n",
    "                                    np.concatenate(total_probs),\n",
    "                                    total_values,\n",
    "                                    next_values\n",
    "                                    )\n",
    "\n",
    "else:\n",
    "    play = Evaluator(brain, 1, **params)\n",
    "    play.evaluate()\n"
   ]
  }
 ],
 "metadata": {
  "kernelspec": {
   "display_name": "Python 3.11.3 ('env': venv)",
   "language": "python",
   "name": "python3"
  },
  "language_info": {
   "codemirror_mode": {
    "name": "ipython",
    "version": 3
   },
   "file_extension": ".py",
   "mimetype": "text/x-python",
   "name": "python",
   "nbconvert_exporter": "python",
   "pygments_lexer": "ipython3",
   "version": "3.11.3"
  },
  "orig_nbformat": 4,
  "vscode": {
   "interpreter": {
    "hash": "8f94c6b32fbda5dcd64daf382f382d2d5da78e483f351d87e126340144fcf47d"
   }
  }
 },
 "nbformat": 4,
 "nbformat_minor": 2
}
