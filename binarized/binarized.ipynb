{
 "cells": [
  {
   "cell_type": "markdown",
   "metadata": {},
   "source": [
    "# \"Binarized Neural Networks: Training Deep Neural Networks with Weights and Activations Constrained to +1 or -1\" paper implementation - https://arxiv.org/abs/1602.02830"
   ]
  },
  {
   "cell_type": "code",
   "execution_count": 1,
   "metadata": {},
   "outputs": [],
   "source": [
    "import torch\n",
    "import torch.nn as nn\n",
    "\n",
    "def binarize(tensor,quant_mode='det'):\n",
    "    if quant_mode=='det':\n",
    "        return tensor.sign()\n",
    "    else:\n",
    "        return tensor.add_(1).div_(2).add_(torch.rand(tensor.size()).add(-0.5)).clamp_(0,1).round().mul_(2).add_(-1)\n",
    "\n",
    "class BinarizeLinear(nn.Linear):\n",
    "    def __init__(self, *kargs, **kwargs):\n",
    "        super(BinarizeLinear, self).__init__(*kargs, **kwargs)\n",
    "\n",
    "    def forward(self, input):\n",
    "        if input.size(1) != 784:\n",
    "            input.data = binarize(input.data)\n",
    "        if not hasattr(self.weight,'org'):\n",
    "            self.weight.org=self.weight.data.clone()\n",
    "        self.weight.data = binarize(self.weight.org)\n",
    "        out = nn.functional.linear(input, self.weight)\n",
    "        if not self.bias is None:\n",
    "            self.bias.org=self.bias.data.clone()\n",
    "            out += self.bias.view(1, -1).expand_as(out)\n",
    "        return out"
   ]
  },
  {
   "cell_type": "code",
   "execution_count": 3,
   "metadata": {},
   "outputs": [
    {
     "name": "stdout",
     "output_type": "stream",
     "text": [
      "Net(\n",
      "  (model): Sequential(\n",
      "    (0): BinarizeLinear(in_features=784, out_features=6144, bias=True)\n",
      "    (1): Hardtanh(min_val=-1.0, max_val=1.0)\n",
      "    (2): BatchNorm1d(6144, eps=1e-05, momentum=0.1, affine=True, track_running_stats=True)\n",
      "    (3): BinarizeLinear(in_features=6144, out_features=6144, bias=True)\n",
      "    (4): Hardtanh(min_val=-1.0, max_val=1.0)\n",
      "    (5): BatchNorm1d(6144, eps=1e-05, momentum=0.1, affine=True, track_running_stats=True)\n",
      "    (6): BinarizeLinear(in_features=6144, out_features=6144, bias=True)\n",
      "    (7): Hardtanh(min_val=-1.0, max_val=1.0)\n",
      "    (8): BatchNorm1d(6144, eps=1e-05, momentum=0.1, affine=True, track_running_stats=True)\n",
      "    (9): Linear(in_features=6144, out_features=10, bias=True)\n",
      "    (10): LogSoftmax(dim=None)\n",
      "    (11): Dropout(p=0.5, inplace=False)\n",
      "  )\n",
      ")\n"
     ]
    }
   ],
   "source": [
    "class Net(nn.Module):\n",
    "    def __init__(self):\n",
    "        super(Net, self).__init__()\n",
    "        self.infl_ratio = 3\n",
    "        self.model = nn.Sequential(\n",
    "            BinarizeLinear(784, 2048 * self.infl_ratio),\n",
    "            nn.Hardtanh(),\n",
    "            nn.BatchNorm1d(2048 * self.infl_ratio),\n",
    "            BinarizeLinear(2048 * self.infl_ratio, 2048 * self.infl_ratio),\n",
    "            nn.Hardtanh(),\n",
    "            nn.BatchNorm1d(2048 * self.infl_ratio),\n",
    "            BinarizeLinear(2048 * self.infl_ratio, 2048 * self.infl_ratio),\n",
    "            nn.Hardtanh(),\n",
    "            nn.BatchNorm1d(2048 * self.infl_ratio),\n",
    "            nn.Linear(2048 * self.infl_ratio, 10),\n",
    "            nn.LogSoftmax(),\n",
    "            nn.Dropout(0.5)\n",
    "        )\n",
    "\n",
    "    def forward(self, x):\n",
    "        x = x.view(-1, 28 * 28)\n",
    "        return self.model(x)\n",
    "    \n",
    "model = Net()"
   ]
  },
  {
   "cell_type": "code",
   "execution_count": null,
   "metadata": {},
   "outputs": [],
   "source": []
  }
 ],
 "metadata": {
  "kernelspec": {
   "display_name": "Python 3.11.3 ('env': venv)",
   "language": "python",
   "name": "python3"
  },
  "language_info": {
   "codemirror_mode": {
    "name": "ipython",
    "version": 3
   },
   "file_extension": ".py",
   "mimetype": "text/x-python",
   "name": "python",
   "nbconvert_exporter": "python",
   "pygments_lexer": "ipython3",
   "version": "3.11.3"
  },
  "orig_nbformat": 4,
  "vscode": {
   "interpreter": {
    "hash": "8f94c6b32fbda5dcd64daf382f382d2d5da78e483f351d87e126340144fcf47d"
   }
  }
 },
 "nbformat": 4,
 "nbformat_minor": 2
}
