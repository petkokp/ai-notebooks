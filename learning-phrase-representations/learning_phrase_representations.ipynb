{
 "cells": [
  {
   "cell_type": "markdown",
   "metadata": {},
   "source": [
    "# \"Learning Phrase Representations using RNN Encoder–Decoder for Statistical Machine Translation\" paper implementation - https://arxiv.org/pdf/1406.1078.pdf"
   ]
  },
  {
   "cell_type": "code",
   "execution_count": null,
   "metadata": {},
   "outputs": [],
   "source": [
    "from model.rnn import RNN\n",
    "from language_loader import LanguageLoader\n",
    "\n",
    "en_path = 'data/europarl-v7.fr-en.en'\n",
    "fr_path = 'data/europarl-v7.fr-en.fr'\n",
    "\n",
    "max_length = 20\n",
    "num_epochs = 10\n",
    "num_batches = 7500\n",
    "vocab_size = 15000\n",
    "\n",
    "\n",
    "def train():\n",
    "    data = LanguageLoader(en_path, fr_path, vocab_size, max_length)\n",
    "    rnn = RNN(data.input_size, data.output_size)\n",
    "\n",
    "    losses = []\n",
    "    for epoch in range(num_epochs):\n",
    "        print(\"=\" * 50 + (\"  EPOCH %i  \" % epoch) + \"=\" * 50)\n",
    "        for i, batch in enumerate(data.sentences(num_batches)):\n",
    "            input, target = batch\n",
    "\n",
    "            loss, outputs = rnn.train(input, target.copy())\n",
    "            losses.append(loss)\n",
    "\n",
    "            if i % 100 is 0:\n",
    "                print(\"Loss at step %d: %.2f\" % (i, loss))\n",
    "                print(\"Truth: \\\"%s\\\"\" % data.vec_to_sentence(target))\n",
    "                print(\"Guess: \\\"%s\\\"\\n\" % data.vec_to_sentence(outputs[:-1]))\n",
    "                rnn.save()\n",
    "\n",
    "train()"
   ]
  },
  {
   "cell_type": "code",
   "execution_count": null,
   "metadata": {},
   "outputs": [],
   "source": [
    "def test():\n",
    "    data = LanguageLoader(en_path, fr_path, vocab_size, max_length)\n",
    "    rnn = RNN(data.input_size, data.output_size)\n",
    "\n",
    "    vecs = data.sentence_to_vec(\"the president is here <EOS>\")\n",
    "\n",
    "    translation = rnn.eval(vecs)\n",
    "    print(data.vec_to_sentence(translation))\n",
    "\n",
    "test()"
   ]
  }
 ],
 "metadata": {
  "kernelspec": {
   "display_name": "Python 3.11.3 ('env': venv)",
   "language": "python",
   "name": "python3"
  },
  "language_info": {
   "codemirror_mode": {
    "name": "ipython",
    "version": 3
   },
   "file_extension": ".py",
   "mimetype": "text/x-python",
   "name": "python",
   "nbconvert_exporter": "python",
   "pygments_lexer": "ipython3",
   "version": "3.11.3"
  },
  "orig_nbformat": 4,
  "vscode": {
   "interpreter": {
    "hash": "8f94c6b32fbda5dcd64daf382f382d2d5da78e483f351d87e126340144fcf47d"
   }
  }
 },
 "nbformat": 4,
 "nbformat_minor": 2
}
