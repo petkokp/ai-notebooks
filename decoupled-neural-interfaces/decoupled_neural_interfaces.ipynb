{
 "cells": [
  {
   "cell_type": "markdown",
   "metadata": {},
   "source": [
    "# \"Decoupled Neural Interfaces using Synthetic Gradients\" paper implementation - https://arxiv.org/pdf/1608.05343.pdf"
   ]
  },
  {
   "cell_type": "code",
   "execution_count": 2,
   "metadata": {},
   "outputs": [],
   "source": [
    "import torch\n",
    "import torchvision.datasets as dsets\n",
    "import torchvision.transforms as transforms\n",
    "\n",
    "\n",
    "class mnist():\n",
    "    def __init__(self, args):\n",
    "        train_dataset = dsets.MNIST(root='./data',\n",
    "                                    train=True,\n",
    "                                    transform=transforms.ToTensor(),\n",
    "                                    download=True)\n",
    "\n",
    "        test_dataset = dsets.MNIST(root='./data',\n",
    "                                   train=False,\n",
    "                                   transform=transforms.ToTensor())\n",
    "\n",
    "        self.train_loader = torch.utils.data.DataLoader(dataset=train_dataset,\n",
    "                                                        batch_size=args.batch_size,\n",
    "                                                        shuffle=True)\n",
    "\n",
    "        self.test_loader = torch.utils.data.DataLoader(dataset=test_dataset,\n",
    "                                                       batch_size=args.batch_size,\n",
    "                                                       shuffle=False)\n",
    "        self.input_dims = 784\n",
    "        self.num_classes = 10\n",
    "        self.in_channel = 1\n",
    "        self.num_train = len(train_dataset)\n",
    "\n",
    "\n",
    "class cifar10():\n",
    "    def __init__(self, args):\n",
    "        transform = self.image_transform()\n",
    "        train_dataset = dsets.CIFAR10(root='./data/',\n",
    "                                      train=True,\n",
    "                                      transform=transform,\n",
    "                                      download=True)\n",
    "\n",
    "        test_dataset = dsets.CIFAR10(root='./data/',\n",
    "                                     train=False,\n",
    "                                     transform=transforms.ToTensor())\n",
    "\n",
    "        self.train_loader = torch.utils.data.DataLoader(dataset=train_dataset,\n",
    "                                                        batch_size=100,\n",
    "                                                        shuffle=True)\n",
    "\n",
    "        self.test_loader = torch.utils.data.DataLoader(dataset=test_dataset,\n",
    "                                                       batch_size=100,\n",
    "                                                       shuffle=False)\n",
    "        self.num_classes = 10\n",
    "        self.in_channel = 3\n",
    "        self.num_train = len(train_dataset)\n",
    "\n",
    "    def image_transform(self):\n",
    "        transform = transforms.Compose([\n",
    "            transforms.Scale(40),\n",
    "            transforms.RandomHorizontalFlip(),\n",
    "            transforms.RandomCrop(28),\n",
    "            transforms.ToTensor()])\n",
    "        return transform\n"
   ]
  }
 ],
 "metadata": {
  "kernelspec": {
   "display_name": "Python 3.11.3 ('env': venv)",
   "language": "python",
   "name": "python3"
  },
  "language_info": {
   "codemirror_mode": {
    "name": "ipython",
    "version": 3
   },
   "file_extension": ".py",
   "mimetype": "text/x-python",
   "name": "python",
   "nbconvert_exporter": "python",
   "pygments_lexer": "ipython3",
   "version": "3.11.3"
  },
  "orig_nbformat": 4,
  "vscode": {
   "interpreter": {
    "hash": "8f94c6b32fbda5dcd64daf382f382d2d5da78e483f351d87e126340144fcf47d"
   }
  }
 },
 "nbformat": 4,
 "nbformat_minor": 2
}
