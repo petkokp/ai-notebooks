{
 "cells": [
  {
   "cell_type": "markdown",
   "metadata": {},
   "source": [
    "# \"Matching Networks for One Shot Learning\" paper implementation - https://arxiv.org/pdf/1606.04080.pdf"
   ]
  },
  {
   "cell_type": "code",
   "execution_count": 2,
   "metadata": {},
   "outputs": [],
   "source": [
    "from data_loader import OmniglotNShotDataset\n",
    "from omniglot_builder import OmniglotBuilder\n",
    "\n",
    "batch_size = 20\n",
    "fce = True\n",
    "classes_per_set = 20\n",
    "samples_per_class = 1\n",
    "channels = 1\n",
    "total_epochs = 100\n",
    "total_train_batches = 1000\n",
    "total_val_batches = 250\n",
    "total_test_batches = 500\n",
    "best_val_acc = 0.0\n",
    "\n",
    "data = OmniglotNShotDataset(batch_size=batch_size, classes_per_set=classes_per_set,\n",
    "                            samples_per_class=samples_per_class, seed=2017, shuffle=True, use_cache=False)\n",
    "obj_oneShotBuilder = OmniglotBuilder(data)\n",
    "obj_oneShotBuilder.build_experiment(batch_size=batch_size, num_channels=1, lr=1e-3, image_size=28, classes_per_set=20,\n",
    "                                    samples_per_class=1, keep_prob=0.0, fce=True, optim=\"adam\", weight_decay=0,\n",
    "                                    use_cuda=False)\n"
   ]
  },
  {
   "cell_type": "code",
   "execution_count": null,
   "metadata": {},
   "outputs": [],
   "source": [
    "\n",
    "for e in range(total_epochs):\n",
    "    total_c_loss, total_accuracy = obj_oneShotBuilder.run_training_epoch(\n",
    "        total_train_batches)\n",
    "    print(\"Epoch {}: train_loss:{} train_accuracy:{}\".format(\n",
    "        e, total_c_loss, total_accuracy))\n",
    "    total_val_c_loss, total_val_accuracy = obj_oneShotBuilder.run_val_epoch(\n",
    "        total_val_batches)\n",
    "    print(\"Epoch {}: val_loss:{} val_accuracy:{}\".format(\n",
    "        e, total_val_c_loss, total_val_accuracy))\n",
    "    if total_val_accuracy > best_val_acc:\n",
    "        best_val_acc = total_val_accuracy\n",
    "        total_test_c_loss, total_test_accuracy = obj_oneShotBuilder.run_test_epoch(\n",
    "            total_test_batches)\n",
    "        print(\"Epoch {}: test_loss:{} test_accuracy:{}\".format(\n",
    "            e, total_test_c_loss, total_test_accuracy))\n"
   ]
  }
 ],
 "metadata": {
  "kernelspec": {
   "display_name": "Python 3.11.3 ('env': venv)",
   "language": "python",
   "name": "python3"
  },
  "language_info": {
   "codemirror_mode": {
    "name": "ipython",
    "version": 3
   },
   "file_extension": ".py",
   "mimetype": "text/x-python",
   "name": "python",
   "nbconvert_exporter": "python",
   "pygments_lexer": "ipython3",
   "version": "3.11.3"
  },
  "orig_nbformat": 4,
  "vscode": {
   "interpreter": {
    "hash": "8f94c6b32fbda5dcd64daf382f382d2d5da78e483f351d87e126340144fcf47d"
   }
  }
 },
 "nbformat": 4,
 "nbformat_minor": 2
}
