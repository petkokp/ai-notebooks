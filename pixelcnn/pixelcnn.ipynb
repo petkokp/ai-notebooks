{
 "cells": [
  {
   "cell_type": "markdown",
   "metadata": {},
   "source": [
    "# \"Pixel Recurrent Neural Networks\" paper implementation - https://arxiv.org/pdf/1601.06759.pdf"
   ]
  },
  {
   "cell_type": "code",
   "execution_count": 1,
   "metadata": {},
   "outputs": [],
   "source": [
    "import torch.nn as nn\n",
    "\n",
    "class MaskedConv2d(nn.Conv2d):\n",
    "    def __init__(self, mask_type, *args, **kwargs):\n",
    "        super(MaskedConv2d, self).__init__(*args, **kwargs)\n",
    "        assert mask_type in {'A', 'B'}\n",
    "        self.register_buffer('mask', self.weight.data.clone())\n",
    "        _, _, kH, kW = self.weight.size()\n",
    "        self.mask.fill_(1)\n",
    "        self.mask[:, :, kH // 2, kW // 2 + (mask_type == 'B'):] = 0\n",
    "        self.mask[:, :, kH // 2 + 1:] = 0\n",
    "\n",
    "    def forward(self, x):\n",
    "        self.weight.data *= self.mask\n",
    "        return super(MaskedConv2d, self).forward(x)"
   ]
  },
  {
   "cell_type": "code",
   "execution_count": 2,
   "metadata": {},
   "outputs": [],
   "source": [
    "fm = 64\n",
    "net = nn.Sequential(\n",
    "    MaskedConv2d('A', 1,  fm, 7, 1, 3, bias=False), nn.BatchNorm2d(\n",
    "        fm), nn.ReLU(True),\n",
    "    MaskedConv2d('B', fm, fm, 7, 1, 3, bias=False), nn.BatchNorm2d(\n",
    "        fm), nn.ReLU(True),\n",
    "    MaskedConv2d('B', fm, fm, 7, 1, 3, bias=False), nn.BatchNorm2d(\n",
    "        fm), nn.ReLU(True),\n",
    "    MaskedConv2d('B', fm, fm, 7, 1, 3, bias=False), nn.BatchNorm2d(\n",
    "        fm), nn.ReLU(True),\n",
    "    MaskedConv2d('B', fm, fm, 7, 1, 3, bias=False), nn.BatchNorm2d(\n",
    "        fm), nn.ReLU(True),\n",
    "    MaskedConv2d('B', fm, fm, 7, 1, 3, bias=False), nn.BatchNorm2d(\n",
    "        fm), nn.ReLU(True),\n",
    "    MaskedConv2d('B', fm, fm, 7, 1, 3, bias=False), nn.BatchNorm2d(\n",
    "        fm), nn.ReLU(True),\n",
    "    MaskedConv2d('B', fm, fm, 7, 1, 3, bias=False), nn.BatchNorm2d(\n",
    "        fm), nn.ReLU(True),\n",
    "    nn.Conv2d(fm, 256, 1))\n"
   ]
  },
  {
   "cell_type": "code",
   "execution_count": null,
   "metadata": {},
   "outputs": [],
   "source": [
    "import torch\n",
    "import torch.nn.functional as F\n",
    "from torch import nn, optim, cuda, backends\n",
    "from torch.autograd import Variable\n",
    "from torch.utils import data\n",
    "from torchvision import datasets, transforms, utils\n",
    "import time\n",
    "import numpy as np\n",
    "\n",
    "tr = data.DataLoader(datasets.MNIST('./data', train=True, download=True, transform=transforms.ToTensor()),\n",
    "                     batch_size=128, shuffle=True, num_workers=1, pin_memory=True)\n",
    "te = data.DataLoader(datasets.MNIST('./data', train=False, download=True, transform=transforms.ToTensor()),\n",
    "                     batch_size=128, shuffle=False, num_workers=1, pin_memory=True)\n",
    "sample = torch.Tensor(144, 1, 28, 28)\n",
    "optimizer = optim.Adam(net.parameters())\n",
    "for epoch in range(10):\n",
    "    err_tr = []\n",
    "    time_tr = time.time()\n",
    "    net.train(True)\n",
    "    for input, _ in tr:\n",
    "        target = Variable((input.data[:, 0] * 255).long())\n",
    "        loss = F.cross_entropy(net(input), target)\n",
    "        err_tr.append(loss.item())\n",
    "        optimizer.zero_grad()\n",
    "        loss.backward()\n",
    "        optimizer.step()\n",
    "    time_tr = time.time() - time_tr\n",
    "\n",
    "    err_te = []\n",
    "    time_te = time.time()\n",
    "    net.train(False)\n",
    "    for input, _ in te:\n",
    "        target = Variable((input.data[:, 0] * 255).long())\n",
    "        loss = F.cross_entropy(net(input), target)\n",
    "        err_te.append(loss.item())\n",
    "    time_te = time.time() - time_te\n",
    "\n",
    "    sample.fill_(0)\n",
    "    net.train(False)\n",
    "    for i in range(28):\n",
    "        for j in range(28):\n",
    "            out = net(Variable(sample, volatile=True))\n",
    "            probs = F.softmax(out[:, :, i, j]).data\n",
    "            sample[:, :, i, j] = torch.multinomial(probs, 1).float() / 255.\n",
    "    utils.save_image(sample, 'sample_{:02d}.png'.format(\n",
    "        epoch), nrow=12, padding=0)\n",
    "\n",
    "    print('epoch={}; nll_tr={:.7f}; nll_te={:.7f}; time_tr={:.1f}s; time_te={:.1f}s'.format(\n",
    "        epoch, np.mean(err_tr), np.mean(err_te), time_tr, time_te))\n"
   ]
  }
 ],
 "metadata": {
  "kernelspec": {
   "display_name": "Python 3.11.3 ('env': venv)",
   "language": "python",
   "name": "python3"
  },
  "language_info": {
   "codemirror_mode": {
    "name": "ipython",
    "version": 3
   },
   "file_extension": ".py",
   "mimetype": "text/x-python",
   "name": "python",
   "nbconvert_exporter": "python",
   "pygments_lexer": "ipython3",
   "version": "3.11.3"
  },
  "orig_nbformat": 4,
  "vscode": {
   "interpreter": {
    "hash": "8f94c6b32fbda5dcd64daf382f382d2d5da78e483f351d87e126340144fcf47d"
   }
  }
 },
 "nbformat": 4,
 "nbformat_minor": 2
}
