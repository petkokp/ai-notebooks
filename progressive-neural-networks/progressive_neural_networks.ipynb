{
 "cells": [
  {
   "cell_type": "markdown",
   "metadata": {},
   "source": [
    "# \"Progressive Neural Networks\" paper implementation - https://arxiv.org/pdf/1606.04671.pdf"
   ]
  },
  {
   "cell_type": "code",
   "execution_count": null,
   "metadata": {},
   "outputs": [],
   "source": [
    "import os\n",
    "import shutil\n",
    "from pprint import pformat\n",
    "\n",
    "import torch\n",
    "import torch.multiprocessing as mp\n",
    "\n",
    "from optimizer import GlobalAdam\n",
    "from params import Parameters\n",
    "from testing import test\n",
    "from training import train\n",
    "from model import PNN\n",
    "from environment import create_env\n",
    "\n",
    "try:\n",
    "    mp.set_start_method('spawn')\n",
    "except RuntimeError:\n",
    "    pass\n",
    "os.environ['OMP_NUM_THREADS'] = '1'\n",
    "os.environ['CUDA_VISIBLE_DEVICES'] = ''\n",
    "\n",
    "opt = Parameters()\n",
    "\n",
    "if opt.log_path.exists() and opt.log_path.is_dir():\n",
    "    shutil.rmtree(opt.log_path)\n",
    "opt.log_path.mkdir(parents=True)\n",
    "if not opt.save_path.is_dir():\n",
    "    opt.save_path.mkdir(parents=True)\n",
    "\n",
    "allenvs = create_env(opt)\n",
    "current = mp.Value('i', 0)\n",
    "gmodel = PNN(allenvs, current)\n",
    "\n",
    "gmodel.share_memory()\n",
    "if opt.load:\n",
    "    file = opt.save_path / \"pnn\"\n",
    "    if file.exists() and file.is_file():\n",
    "        gmodel.load_state_dict(torch.load(file))\n",
    "\n",
    "optimizer = GlobalAdam(gmodel.parameters(), lr=opt.lr)\n",
    "\n",
    "processes = []\n",
    "\n",
    "for pid in range(opt.nprocesses):\n",
    "    process = mp.Process(target=train,\n",
    "                          args=(pid, opt, current, gmodel, optimizer))\n",
    "    process.start()\n",
    "    processes.append(process)\n",
    "\n",
    "process = mp.Process(target=test, args=(opt.nprocesses, opt, gmodel))\n",
    "process.start()\n",
    "processes.append(process)\n",
    "\n",
    "for process in processes:\n",
    "    process.join()"
   ]
  }
 ],
 "metadata": {
  "kernelspec": {
   "display_name": "Python 3.11.3 ('env': venv)",
   "language": "python",
   "name": "python3"
  },
  "language_info": {
   "codemirror_mode": {
    "name": "ipython",
    "version": 3
   },
   "file_extension": ".py",
   "mimetype": "text/x-python",
   "name": "python",
   "nbconvert_exporter": "python",
   "pygments_lexer": "ipython3",
   "version": "3.11.3"
  },
  "orig_nbformat": 4,
  "vscode": {
   "interpreter": {
    "hash": "8f94c6b32fbda5dcd64daf382f382d2d5da78e483f351d87e126340144fcf47d"
   }
  }
 },
 "nbformat": 4,
 "nbformat_minor": 2
}
