{
 "cells": [
  {
   "cell_type": "markdown",
   "metadata": {},
   "source": [
    "# \"Auto-Encoding Variational Bayes\" paper implementation - https://arxiv.org/pdf/1312.6114.pdfd"
   ]
  },
  {
   "cell_type": "code",
   "execution_count": 2,
   "metadata": {},
   "outputs": [],
   "source": [
    "import torch\n",
    "import torch.nn as nn\n",
    "import torch.optim as optim\n",
    "from torch.utils.data import DataLoader\n",
    "from torchvision import transforms\n",
    "from torchvision.datasets import MNIST\n",
    "from torchvision.utils import save_image\n",
    "\n",
    "import numpy as np\n",
    "from matplotlib import pyplot as plt\n",
    "\n",
    "to_tensor = transforms.ToTensor()\n",
    "to_image = transforms.ToPILImage()\n",
    "\n",
    "train_set = MNIST('./data', download=True, transform=to_tensor)\n",
    "train_loader = DataLoader(train_set, shuffle=True, batch_size=128)\n"
   ]
  },
  {
   "cell_type": "code",
   "execution_count": 3,
   "metadata": {},
   "outputs": [],
   "source": [
    "class VAE(nn.Module):\n",
    "\n",
    "    def __init__(self, n_input=784, n_hidden=256, n_latent=2):\n",
    "        super(VAE, self).__init__()\n",
    "        self.n_input = n_input\n",
    "        self.n_hidden = n_hidden\n",
    "        self.n_latent = n_latent\n",
    "        self.encoder = nn.Sequential(\n",
    "            nn.Linear(self.n_input, self.n_hidden),\n",
    "            nn.ReLU(),\n",
    "        )\n",
    "        self.z_mean = nn.Linear(self.n_hidden, self.n_latent)\n",
    "        self.z_log_sigma = nn.Linear(self.n_hidden, self.n_latent)\n",
    "        self.decoder = nn.Sequential(\n",
    "            nn.Linear(self.n_latent, self.n_hidden),\n",
    "            nn.ReLU(),\n",
    "            nn.Linear(self.n_hidden, self.n_input),\n",
    "            nn.Sigmoid()\n",
    "        )\n",
    "\n",
    "    def sample(self, mu, log_sigma):\n",
    "        sigma = torch.exp(log_sigma/2)\n",
    "        epsilon = torch.rand_like(sigma)\n",
    "        return mu + epsilon * sigma\n",
    "\n",
    "    def forward(self, x):\n",
    "        x = x.view(-1, self.n_input)\n",
    "        x = self.encoder(x)\n",
    "        mu = self.z_mean(x)\n",
    "        log_sigma = self.z_log_sigma(x)\n",
    "        z = self.sample(mu, log_sigma)\n",
    "        y = self.decoder(z)\n",
    "        return y, mu, log_sigma\n"
   ]
  },
  {
   "cell_type": "code",
   "execution_count": 4,
   "metadata": {},
   "outputs": [],
   "source": [
    "def calculate_loss(y, x, mu, log_sigma):\n",
    "    KLdiv = -0.5*(1+log_sigma-mu.pow(2)-log_sigma.exp()).sum()\n",
    "    recon_loss = nn.BCELoss(reduction='sum')(y, x)\n",
    "    return KLdiv + recon_loss"
   ]
  },
  {
   "cell_type": "code",
   "execution_count": null,
   "metadata": {},
   "outputs": [],
   "source": []
  }
 ],
 "metadata": {
  "kernelspec": {
   "display_name": "Python 3.11.3 ('env': venv)",
   "language": "python",
   "name": "python3"
  },
  "language_info": {
   "codemirror_mode": {
    "name": "ipython",
    "version": 3
   },
   "file_extension": ".py",
   "mimetype": "text/x-python",
   "name": "python",
   "nbconvert_exporter": "python",
   "pygments_lexer": "ipython3",
   "version": "3.11.3"
  },
  "orig_nbformat": 4,
  "vscode": {
   "interpreter": {
    "hash": "8f94c6b32fbda5dcd64daf382f382d2d5da78e483f351d87e126340144fcf47d"
   }
  }
 },
 "nbformat": 4,
 "nbformat_minor": 2
}
