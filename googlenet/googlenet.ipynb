{
 "cells": [
  {
   "cell_type": "code",
   "execution_count": null,
   "metadata": {},
   "outputs": [],
   "source": [
    "import torch\n",
    "import torch.nn as nn\n",
    "import torch.nn.functional as F\n",
    "\n",
    "class Inception(nn.Module):\n",
    "    def __init__(self, dim_in, dim_1, dims_3, dims_5, dim_pool):\n",
    "        super().__init__()\n",
    "        self.redu1 = nn.Conv2d(dim_in, dim_1, kernel_size=1, stride=1) \n",
    "        self.redu2 = nn.Conv2d(dim_in, dims_3[0], kernel_size=1, stride=1)\n",
    "        self.conv1 = nn.Conv2d(dims_3[0], dims_3[1], kernel_size=3, stride=1, padding=1, padding_mode='reflect')\n",
    "        self.redu3 = nn.Conv2d(dim_in, dims_5[0], kernel_size=1, stride=1)\n",
    "        self.conv2 = nn.Conv2d(dims_5[0], dims_5[1], kernel_size=5, stride=1, padding=2, padding_mode='reflect')\n",
    "        self.pool  = nn.MaxPool2d(3,1, padding=1)\n",
    "        self.redu4 = nn.Conv2d(dim_in, dim_pool, kernel_size=1,stride=1)\n",
    "\n",
    "    def forward(self,x):\n",
    "        x1 = F.relu(self.redu1(x))\n",
    "        x2 = F.relu(self.redu2(x))\n",
    "        x2 = F.relu(self.conv1(x2))\n",
    "        x3 = F.relu(self.redu3(x))\n",
    "        x3 = F.relu(self.conv2(x3))\n",
    "        x4 = self.pool(x)\n",
    "        x4 = F.relu(self.redu4(x4))\n",
    "        return torch.cat((x1,x2,x3,x4),1) "
   ]
  }
 ],
 "metadata": {
  "language_info": {
   "name": "python"
  },
  "orig_nbformat": 4
 },
 "nbformat": 4,
 "nbformat_minor": 2
}
